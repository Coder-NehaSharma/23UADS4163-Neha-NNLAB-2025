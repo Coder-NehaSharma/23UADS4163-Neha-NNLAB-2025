{
 "cells": [
  {
   "cell_type": "code",
   "execution_count": 1,
   "metadata": {},
   "outputs": [],
   "source": [
    "import numpy as np\n",
    "\n",
    "# Activation function (Sigmoid) and its derivative\n",
    "def sigmoid(x):\n",
    "    return 1 / (1 + np.exp(-x))\n",
    "\n",
    "def sigmoid_derivative(x):\n",
    "    return x * (1 - x)"
   ]
  },
  {
   "cell_type": "code",
   "execution_count": 2,
   "metadata": {},
   "outputs": [],
   "source": [
    "# MLP class\n",
    "class MLP:\n",
    "    def __init__(self, input_size, hidden_size, output_size, lr=0.1, epochs=10000):\n",
    "        self.lr = lr\n",
    "        self.epochs = epochs\n",
    "        \n",
    "        # Initialize weights and biases\n",
    "        self.W1 = np.random.uniform(-1, 1, (input_size, hidden_size))\n",
    "        self.b1 = np.random.uniform(-1, 1, (1, hidden_size))\n",
    "        self.W2 = np.random.uniform(-1, 1, (hidden_size, output_size))\n",
    "        self.b2 = np.random.uniform(-1, 1, (1, output_size))\n",
    "    \n",
    "    def forward(self, X):\n",
    "        self.z1 = np.dot(X, self.W1) + self.b1\n",
    "        self.a1 = sigmoid(self.z1)\n",
    "        self.z2 = np.dot(self.a1, self.W2) + self.b2\n",
    "        self.a2 = sigmoid(self.z2)\n",
    "        return self.a2\n",
    "    \n",
    "    def backward(self, X, y, output):\n",
    "        error = y - output\n",
    "        d_output = error * sigmoid_derivative(output)\n",
    "        d_hidden = np.dot(d_output, self.W2.T) * sigmoid_derivative(self.a1)\n",
    "        \n",
    "        # Update weights and biases\n",
    "        self.W2 += self.lr * np.dot(self.a1.T, d_output)\n",
    "        self.b2 += self.lr * np.sum(d_output, axis=0, keepdims=True)\n",
    "        self.W1 += self.lr * np.dot(X.T, d_hidden)\n",
    "        self.b1 += self.lr * np.sum(d_hidden, axis=0, keepdims=True)\n",
    "    \n",
    "    def train(self, X, y):\n",
    "        for _ in range(self.epochs):\n",
    "            output = self.forward(X)\n",
    "            self.backward(X, y, output)\n",
    "    \n",
    "    def predict(self, X):\n",
    "        return (self.forward(X) > 0.5).astype(int)"
   ]
  },
  {
   "cell_type": "code",
   "execution_count": 3,
   "metadata": {},
   "outputs": [],
   "source": [
    "# XOR dataset\n",
    "X = np.array([[0, 0], [0, 1], [1, 0], [1, 1]])\n",
    "y = np.array([[0], [1], [1], [0]])"
   ]
  },
  {
   "cell_type": "code",
   "execution_count": 4,
   "metadata": {},
   "outputs": [],
   "source": [
    "# Train MLP\n",
    "mlp = MLP(input_size=2, hidden_size=2, output_size=1, lr=0.5, epochs=10000)\n",
    "mlp.train(X, y)"
   ]
  },
  {
   "cell_type": "code",
   "execution_count": 5,
   "metadata": {},
   "outputs": [
    {
     "name": "stdout",
     "output_type": "stream",
     "text": [
      "Predictions for XOR function:\n",
      "[[0]\n",
      " [1]\n",
      " [1]\n",
      " [0]]\n"
     ]
    }
   ],
   "source": [
    "# Predictions\n",
    "predictions = mlp.predict(X)\n",
    "print(\"Predictions for XOR function:\")\n",
    "print(predictions)"
   ]
  }
 ],
 "metadata": {
  "kernelspec": {
   "display_name": "Python 3",
   "language": "python",
   "name": "python3"
  },
  "language_info": {
   "codemirror_mode": {
    "name": "ipython",
    "version": 3
   },
   "file_extension": ".py",
   "mimetype": "text/x-python",
   "name": "python",
   "nbconvert_exporter": "python",
   "pygments_lexer": "ipython3",
   "version": "3.12.8"
  },
  "orig_nbformat": 4
 },
 "nbformat": 4,
 "nbformat_minor": 2
}
