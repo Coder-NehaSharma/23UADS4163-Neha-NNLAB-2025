{
 "cells": [
  {
   "cell_type": "code",
   "execution_count": 14,
   "metadata": {},
   "outputs": [],
   "source": [
    "import numpy as np"
   ]
  },
  {
   "cell_type": "code",
   "execution_count": 20,
   "metadata": {},
   "outputs": [],
   "source": [
    "class MLP_XOR:\n",
    "    def __init__(self, input_size=2, hidden_size=2, lr=0.1, epochs=10000):\n",
    "        self.lr = lr  # Learning rate\n",
    "        self.epochs = epochs  # Number of training iterations\n",
    "\n",
    "        # Initialize weights and biases\n",
    "        self.W1 = np.random.uniform(-1, 1, (hidden_size, input_size))\n",
    "        self.b1 = np.random.uniform(-1, 1, hidden_size)\n",
    "        self.W2 = np.random.uniform(-1, 1, (1, hidden_size))\n",
    "        self.b2 = np.random.uniform(-1, 1, 1)\n",
    "\n",
    "    def step_function(self, x):\n",
    "        return np.where(x >= 0, 1, 0)  # Step function: 1 if x >= 0, else 0\n",
    "\n",
    "    def forward(self, x):\n",
    "        # Hidden Layer\n",
    "        hidden_input = np.dot(self.W1, x) + self.b1\n",
    "        hidden_output = self.step_function(hidden_input)  # Apply step function\n",
    "        \n",
    "        # Output Layer\n",
    "        output_input = np.dot(self.W2, hidden_output) + self.b2\n",
    "        output = self.step_function(output_input)  # Apply step function\n",
    "        \n",
    "        return hidden_output, output\n",
    "\n",
    "    def train(self, X, y):\n",
    "        for epoch in range(self.epochs):\n",
    "            total_error = 0\n",
    "            for i in range(len(X)):\n",
    "                x_sample = X[i]\n",
    "                target = y[i]\n",
    "\n",
    "                # Forward pass\n",
    "                hidden_output, output = self.forward(x_sample)\n",
    "                \n",
    "                # Compute error at output layer\n",
    "                output_error = target - output\n",
    "                total_error += abs(output_error)\n",
    "\n",
    "                # Update weights for output layer\n",
    "                if output_error != 0:\n",
    "                    self.W2 += self.lr * output_error * hidden_output.reshape(1, -1)\n",
    "                    self.b2 += self.lr * output_error\n",
    "\n",
    "                    # Compute error for hidden layer\n",
    "                    hidden_errors = self.W2.flatten() * output_error\n",
    "\n",
    "                    # Update hidden layer weights\n",
    "                    for j in range(len(hidden_output)):\n",
    "                        if hidden_errors[j] != 0:\n",
    "                            self.W1[j] += self.lr * hidden_errors[j] * x_sample\n",
    "                            self.b1[j] += self.lr * hidden_errors[j]\n",
    "\n",
    "            # Stop early if XOR is learned\n",
    "            if total_error == 0:\n",
    "                print(f\"Training complete at epoch {epoch}\")\n",
    "                break\n",
    "\n",
    "    # def predict(self, x):\n",
    "    #     _, output = self.forward(x)\n",
    "    #     return output\n",
    "    def predict(self, x):\n",
    "        _, output = self.forward(x)\n",
    "        return int(output)  \n",
    "\n",
    "    def evaluate(self, X, y):\n",
    "        correct = sum(self.predict(X[i]) == y[i] for i in range(len(X)))\n",
    "        accuracy = correct / len(y)\n",
    "        print(f\"Accuracy: {accuracy * 100:.2f}%\")\n"
   ]
  },
  {
   "cell_type": "code",
   "execution_count": 21,
   "metadata": {},
   "outputs": [],
   "source": [
    "# XOR truth table\n",
    "XOR_X = np.array([[0, 0], [0, 1], [1, 0], [1, 1]])\n",
    "XOR_y = np.array([0, 1, 1, 0])"
   ]
  },
  {
   "cell_type": "code",
   "execution_count": 22,
   "metadata": {},
   "outputs": [
    {
     "name": "stdout",
     "output_type": "stream",
     "text": [
      "Training MLP for XOR Gate:\n",
      "Accuracy: 50.00%\n"
     ]
    },
    {
     "name": "stderr",
     "output_type": "stream",
     "text": [
      "/var/folders/g9/2qd_2d85201bjd46vllp_23m0000gn/T/ipykernel_10463/3288629882.py:64: DeprecationWarning: Conversion of an array with ndim > 0 to a scalar is deprecated, and will error in future. Ensure you extract a single element from your array before performing this operation. (Deprecated NumPy 1.25.)\n",
      "  return int(output)\n"
     ]
    }
   ],
   "source": [
    "# Train and evaluate the MLP\n",
    "print(\"Training MLP for XOR Gate:\")\n",
    "mlp = MLP_XOR()\n",
    "mlp.train(XOR_X, XOR_y)\n",
    "mlp.evaluate(XOR_X, XOR_y)"
   ]
  }
 ],
 "metadata": {
  "kernelspec": {
   "display_name": "Python 3",
   "language": "python",
   "name": "python3"
  },
  "language_info": {
   "codemirror_mode": {
    "name": "ipython",
    "version": 3
   },
   "file_extension": ".py",
   "mimetype": "text/x-python",
   "name": "python",
   "nbconvert_exporter": "python",
   "pygments_lexer": "ipython3",
   "version": "3.12.8"
  },
  "orig_nbformat": 4
 },
 "nbformat": 4,
 "nbformat_minor": 2
}
