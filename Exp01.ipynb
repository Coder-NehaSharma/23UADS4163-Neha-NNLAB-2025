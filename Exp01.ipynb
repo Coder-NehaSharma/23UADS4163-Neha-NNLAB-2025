{
 "cells": [
  {
   "cell_type": "markdown",
   "metadata": {},
   "source": [
    "This project implements a single-layer perceptron using NumPy to classify NAND and XOR logic gates. The model is trained using the Perceptron Learning Rule, which updates weights and bias based on prediction errors."
   ]
  },
  {
   "cell_type": "code",
   "execution_count": 1,
   "metadata": {},
   "outputs": [],
   "source": [
    "import numpy as np\n",
    "\n",
    "class Perceptron:\n",
    "    def __init__(self, input_size, lr=0.1, epochs=10):\n",
    "        self.lr = lr  # Learning rate\n",
    "        self.epochs = epochs  # Number of training iterations\n",
    "        self.weights = np.random.rand(input_size)  # Initialize weights randomly\n",
    "        self.bias = np.random.rand()  # Initialize bias randomly\n",
    "\n",
    "    def activation(self, x):\n",
    "        return 1 if x >= 0 else 0  # Step function\n",
    "\n",
    "    def predict(self, x):\n",
    "        return self.activation(np.dot(self.weights, x) + self.bias)\n",
    "\n",
    "    def train(self, X, y):\n",
    "        for _ in range(self.epochs):\n",
    "            for i in range(len(X)):\n",
    "                y_pred = self.predict(X[i])\n",
    "                error = y[i] - y_pred\n",
    "                self.weights += self.lr * error * X[i]  # Weight update\n",
    "                self.bias += self.lr * error  # Bias update\n",
    "\n",
    "    def evaluate(self, X, y):\n",
    "        correct = sum(self.predict(X[i]) == y[i] for i in range(len(X)))\n",
    "        accuracy = correct / len(y)\n",
    "        print(f\"Accuracy: {accuracy * 100:.2f}%\")"
   ]
  },
  {
   "cell_type": "markdown",
   "metadata": {},
   "source": [
    "Model Description\n",
    "\n",
    "Overview\n",
    "This model is a Single-Layer Perceptron (SLP) implemented using NumPy to classify the outputs of NAND and XOR logic gates. A perceptron is the simplest type of artificial neural network, capable of solving linearly separable problems.\n",
    "\n",
    "Architecture\n",
    "The perceptron consists of:\n",
    "Input Layer (2 neurons) – Represents the two binary inputs of the logic gate.\n",
    "Output Layer (1 neuron) – Produces a binary output (0 or 1)."
   ]
  },
  {
   "cell_type": "code",
   "execution_count": 2,
   "metadata": {},
   "outputs": [],
   "source": [
    "# NAND and XOR truth tables\n",
    "NAND_X = np.array([[0, 0], [0, 1], [1, 0], [1, 1]])\n",
    "NAND_y = np.array([1, 1, 1, 0])  # NAND Output\n",
    "\n",
    "XOR_X = np.array([[0, 0], [0, 1], [1, 0], [1, 1]])\n",
    "XOR_y = np.array([0, 1, 1, 0])  # XOR Output"
   ]
  },
  {
   "cell_type": "code",
   "execution_count": 3,
   "metadata": {},
   "outputs": [
    {
     "name": "stdout",
     "output_type": "stream",
     "text": [
      "Training Perceptron for NAND Gate:\n",
      "Accuracy: 100.00%\n"
     ]
    }
   ],
   "source": [
    "# Train and evaluate for NAND gate\n",
    "print(\"Training Perceptron for NAND Gate:\")\n",
    "nand_perceptron = Perceptron(input_size=2)\n",
    "nand_perceptron.train(NAND_X, NAND_y)\n",
    "nand_perceptron.evaluate(NAND_X, NAND_y)"
   ]
  },
  {
   "cell_type": "code",
   "execution_count": 4,
   "metadata": {},
   "outputs": [
    {
     "name": "stdout",
     "output_type": "stream",
     "text": [
      "\n",
      "Training Perceptron for XOR Gate:\n",
      "Accuracy: 50.00%\n"
     ]
    }
   ],
   "source": [
    "# Train and evaluate for XOR gate\n",
    "print(\"\\nTraining Perceptron for XOR Gate:\")\n",
    "xor_perceptron = Perceptron(input_size=2)\n",
    "xor_perceptron.train(XOR_X, XOR_y)\n",
    "xor_perceptron.evaluate(XOR_X, XOR_y)"
   ]
  },
  {
   "cell_type": "markdown",
   "metadata": {},
   "source": [
    "Results & Insights\n",
    "\n",
    "NAND Gate: Achieves 100% accuracy as it is linearly separable.\n",
    "XOR Gate: Stuck at 50% accuracy due to non-linearity (not linearly separable).\n",
    "\n",
    "Conclusion\n",
    "This perceptron successfully classifies NAND, proving its ability to solve linearly separable problems. However, XOR remains unsolvable, highlighting the need for multi-layer networks to capture complex patterns."
   ]
  }
 ],
 "metadata": {
  "kernelspec": {
   "display_name": "Python 3",
   "language": "python",
   "name": "python3"
  },
  "language_info": {
   "codemirror_mode": {
    "name": "ipython",
    "version": 3
   },
   "file_extension": ".py",
   "mimetype": "text/x-python",
   "name": "python",
   "nbconvert_exporter": "python",
   "pygments_lexer": "ipython3",
   "version": "3.12.8"
  },
  "orig_nbformat": 4
 },
 "nbformat": 4,
 "nbformat_minor": 2
}
